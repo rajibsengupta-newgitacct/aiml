{
  "nbformat": 4,
  "nbformat_minor": 0,
  "metadata": {
    "colab": {
      "name": "Untitled1.ipynb",
      "provenance": [],
      "authorship_tag": "ABX9TyMBkeQWhaK3ztfCrDsTOa1Q",
      "include_colab_link": true
    },
    "kernelspec": {
      "name": "python3",
      "display_name": "Python 3"
    },
    "language_info": {
      "name": "python"
    }
  },
  "cells": [
    {
      "cell_type": "markdown",
      "metadata": {
        "id": "view-in-github",
        "colab_type": "text"
      },
      "source": [
        "<a href=\"https://colab.research.google.com/github/rajibsengupta-newgitacct/aiml/blob/main/MeanAbsoluteerror.ipynb\" target=\"_parent\"><img src=\"https://colab.research.google.com/assets/colab-badge.svg\" alt=\"Open In Colab\"/></a>"
      ]
    },
    {
      "cell_type": "markdown",
      "source": [
        "This is for Mean Absolute error and Mean Squared Error"
      ],
      "metadata": {
        "id": "vsJ01VjfMIek"
      }
    },
    {
      "cell_type": "code",
      "source": [
        "import math\n",
        "\n",
        "coordinates = [(2,-2), (5, 6), (-4, -4), (-7, 1), (8, 14)]\n",
        "m = len(coordinates)\n",
        "abs_error_sum = 0\n",
        "sqrd_error_sum = 0\n",
        "\n",
        "for x, y in coordinates:\n",
        "    y_hat = 1.2 * x + 2\n",
        "\n",
        "    abs_error_sum += abs(y - y_hat)\n",
        "\n",
        "    sqrd_error_sum += math.pow(y - y_hat, 2)\n",
        "\n",
        "mean_abs_error = 1/m * abs_error_sum\n",
        "mean_sqrd_error = 1/(2*m) * sqrd_error_sum\n",
        "\n",
        "print(\"Mean Absolute error\")\n",
        "print(mean_abs_error)\n",
        "print(\"Mean Square error\")\n",
        "print(mean_sqrd_error)"
      ],
      "metadata": {
        "colab": {
          "base_uri": "https://localhost:8080/"
        },
        "id": "njOiiCW0MVnK",
        "outputId": "bfb2eb09-c088-40ec-8176-a83fcd0e31a8"
      },
      "execution_count": 6,
      "outputs": [
        {
          "output_type": "stream",
          "name": "stdout",
          "text": [
            "Mean Absolute error\n",
            "3.88\n",
            "Mean Square error\n",
            "10.692000000000002\n"
          ]
        }
      ]
    }
  ]
}