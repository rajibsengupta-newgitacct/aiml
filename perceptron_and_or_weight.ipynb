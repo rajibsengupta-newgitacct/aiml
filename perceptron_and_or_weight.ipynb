{
  "nbformat": 4,
  "nbformat_minor": 0,
  "metadata": {
    "colab": {
      "name": "perceptron_and_or_weight.ipynb",
      "provenance": [],
      "authorship_tag": "ABX9TyNreM3XV4Kej7MXptUfr8kl",
      "include_colab_link": true
    },
    "kernelspec": {
      "name": "python3",
      "display_name": "Python 3"
    },
    "language_info": {
      "name": "python"
    }
  },
  "cells": [
    {
      "cell_type": "markdown",
      "metadata": {
        "id": "view-in-github",
        "colab_type": "text"
      },
      "source": [
        "<a href=\"https://colab.research.google.com/github/rajibsengupta-newgitacct/aiml/blob/main/perceptron_and_or_weight.ipynb\" target=\"_parent\"><img src=\"https://colab.research.google.com/assets/colab-badge.svg\" alt=\"Open In Colab\"/></a>"
      ]
    },
    {
      "cell_type": "code",
      "source": [
        "import pandas as pd\n",
        "\n",
        "# TODO: Set weight1, weight2, and bias\n",
        "#For AND bias will be negative and wi + w2 > = |bias|\n",
        "#here is the explanation\n",
        "# For (0,0) , w1x1 + w2x2 + b < 0 (NO/False output) => 0 + 0 + b < 0 => so b < 0\n",
        "# For (0,1), w1x1 + w2x2 + b < 0 (NO/False output) => 0 + w2 + b < 0 => so, w2 < -b\n",
        "# For (1,0), w1x1 + w2x2 + b < 0 (NO/False output) => w1 + 0 + b < 0 => so, w1 < -b\n",
        "# For (1,1), w1x1 + w2x2 + b >= 0 (YES/TRUE output)=> w1 + w2 + b >= 0 => so, w1+w2 >= -b\n",
        "#Say, b=-1, w2 < 1, w1 < 1 , but combimed w1+w2>= 1, so, w1 =0.75, w2 = 0.50\n",
        "#Say, b=-2, w2 < 2, w1 < 2 , but combimed w1+w2>= 2, so, w1 =1.25, w2 = 1.25\n",
        "weight1 = 0.75\n",
        "weight2 = 0.50\n",
        "bias = -1\n",
        "\n",
        "# Inputs and outputs\n",
        "test_inputs = [(0, 0), (0, 1), (1, 0), (1, 1)]\n",
        "#For AND\n",
        "correct_outputs = [False, False, False, True]\n",
        "outputs = []\n",
        "# Generate and check output\n",
        "for test_input, correct_output in zip(test_inputs, correct_outputs):\n",
        "    linear_combination = weight1 * test_input[0] + weight2 * test_input[1] + bias\n",
        "    output = int(linear_combination >= 0)\n",
        "    is_correct_string = 'Yes' if output == correct_output else 'No'\n",
        "    outputs.append([test_input[0], test_input[1], linear_combination, output, is_correct_string])\n",
        "# Print output\n",
        "num_wrong = len([output[4] for output in outputs if output[4] == 'No'])\n",
        "output_frame = pd.DataFrame(outputs, columns=['Input 1', '  Input 2', '  Linear Combination', '  Activation Output', '  Is Correct'])\n",
        "if not num_wrong:\n",
        "    print('Nice!  You got it all correct.\\n')\n",
        "else:\n",
        "    print('You got {} wrong.  Keep trying!\\n'.format(num_wrong))\n",
        "print(output_frame.to_string(index=False))\n"
      ],
      "metadata": {
        "colab": {
          "base_uri": "https://localhost:8080/"
        },
        "id": "1VQAtTA276E7",
        "outputId": "3c207b9a-73f3-4140-c80b-fec0c7127aab"
      },
      "execution_count": 3,
      "outputs": [
        {
          "output_type": "stream",
          "name": "stdout",
          "text": [
            "Nice!  You got it all correct.\n",
            "\n",
            " Input 1    Input 2    Linear Combination    Activation Output   Is Correct\n",
            "       0          0                 -1.00                    0          Yes\n",
            "       0          1                 -0.50                    0          Yes\n",
            "       1          0                 -0.25                    0          Yes\n",
            "       1          1                  0.25                    1          Yes\n"
          ]
        }
      ]
    },
    {
      "cell_type": "code",
      "source": [
        "# TODO: Set weight1, weight2, and bias\n",
        "#For AND bias will be negative and wi + w2 > = |bias|\n",
        "#here is the explanation\n",
        "# For (0,0) , w1x1 + w2x2 + b < 0 (NO/False output) => 0 + 0 + b < 0 => so b < 0\n",
        "# For (0,1), w1x1 + w2x2 + b < 0 (NO/False output) => 0 + w2 + b < 0 => so, w2 < -b\n",
        "# For (1,0), w1x1 + w2x2 + b < 0 (NO/False output) => w1 + 0 + b < 0 => so, w1 < -b\n",
        "# For (1,1), w1x1 + w2x2 + b >= 0 (YES/TRUE output)=> w1 + w2 + b >= 0 => so, w1+w2 >= -b\n",
        "#Say, b=-1, w2 < 1, w1 < 1 , but combimed w1+w2>= 1, so, w1 =0.75, w2 = 0.50\n",
        "#Say, b=-2, w2 < 2, w1 < 2 , but combimed w1+w2>= 2, so, w1 =1.25, w2 = 1.25\n",
        "weight1 = 1.25\n",
        "weight2 = 1.25\n",
        "bias = -2\n",
        "\n",
        "# Inputs and outputs\n",
        "test_inputs = [(0, 0), (0, 1), (1, 0), (1, 1)]\n",
        "#For AND\n",
        "correct_outputs = [False, False, False, True]\n",
        "outputs = []\n",
        "# Generate and check output\n",
        "for test_input, correct_output in zip(test_inputs, correct_outputs):\n",
        "    linear_combination = weight1 * test_input[0] + weight2 * test_input[1] + bias\n",
        "    output = int(linear_combination >= 0)\n",
        "    is_correct_string = 'Yes' if output == correct_output else 'No'\n",
        "    outputs.append([test_input[0], test_input[1], linear_combination, output, is_correct_string])\n",
        "# Print output\n",
        "num_wrong = len([output[4] for output in outputs if output[4] == 'No'])\n",
        "output_frame = pd.DataFrame(outputs, columns=['Input 1', '  Input 2', '  Linear Combination', '  Activation Output', '  Is Correct'])\n",
        "if not num_wrong:\n",
        "    print('Nice!  You got it all correct.\\n')\n",
        "else:\n",
        "    print('You got {} wrong.  Keep trying!\\n'.format(num_wrong))\n",
        "print(output_frame.to_string(index=False))\n"
      ],
      "metadata": {
        "colab": {
          "base_uri": "https://localhost:8080/"
        },
        "id": "tZ7nNzyL8MFn",
        "outputId": "9916cd67-4f6b-429a-c3b9-182a86cf8246"
      },
      "execution_count": 4,
      "outputs": [
        {
          "output_type": "stream",
          "name": "stdout",
          "text": [
            "Nice!  You got it all correct.\n",
            "\n",
            " Input 1    Input 2    Linear Combination    Activation Output   Is Correct\n",
            "       0          0                 -2.00                    0          Yes\n",
            "       0          1                 -0.75                    0          Yes\n",
            "       1          0                 -0.75                    0          Yes\n",
            "       1          1                  0.50                    1          Yes\n"
          ]
        }
      ]
    },
    {
      "cell_type": "code",
      "execution_count": 5,
      "metadata": {
        "colab": {
          "base_uri": "https://localhost:8080/"
        },
        "id": "OyT20RCp361n",
        "outputId": "0403f9a0-542e-4003-caa5-5de451f81ce0"
      },
      "outputs": [
        {
          "output_type": "stream",
          "name": "stdout",
          "text": [
            "Nice!  You got it all correct.\n",
            "\n",
            " Input 1    Input 2    Linear Combination    Activation Output   Is Correct\n",
            "       0          0                 -2.00                    0          Yes\n",
            "       0          1                  0.00                    1          Yes\n",
            "       1          0                  0.25                    1          Yes\n",
            "       1          1                  2.25                    1          Yes\n"
          ]
        }
      ],
      "source": [
        "import pandas as pd\n",
        "\n",
        "# TODO: Set weight1, weight2, and bias\n",
        "#For OR bias will be negative and will go down further and w1/or the weight of both w1 and w2 can be increased so \n",
        "#here is the explanation\n",
        "# For (0,0) , w1x1 + w2x2 + b < 0 (NO/False output) => 0 + 0 + b < 0 => so b < 0\n",
        "# For (0,1), w1x1 + w2x2 + b >= 0 (YES/TRUE output) => 0 + w2 + b >= 0 => so, w2 >= -b\n",
        "# For (1,0), w1x1 + w2x2 + b < 0 (NO/False output) => w1 + 0 + b >= 0 => so, w1 >= -b\n",
        "# For (1,1), w1x1 + w2x2 + b >= 0 (YES/TRUE output)=> w1 + w2 + b >= 0 => so, w1+w2 >= -b\n",
        "#Say b=-1, w2 > 1, w1 > 1 , and combimed w1+w2 >= 1, so, w1 = 1.25, w2 = 1.25\n",
        "#OR b=-2, w2 > 1, w1 > 1 , and combimed w1+w2 >= 1, so, w1 = 1.25, w2 = 1.25\n",
        "\n",
        "#For OR\n",
        "weight1 = 2.25\n",
        "weight2 = 2.0\n",
        "bias = -2\n",
        "\n",
        "# DON'T CHANGE ANYTHING BELOW\n",
        "\n",
        "# Inputs and outputs\n",
        "test_inputs = [(0, 0), (0, 1), (1, 0), (1, 1)]\n",
        "#For AND\n",
        "#correct_outputs = [False, False, False, True]\n",
        "#For OR\n",
        "correct_outputs = [False, True, True, True]\n",
        "outputs = []\n",
        "# Generate and check output\n",
        "for test_input, correct_output in zip(test_inputs, correct_outputs):\n",
        "    linear_combination = weight1 * test_input[0] + weight2 * test_input[1] + bias\n",
        "    output = int(linear_combination >= 0)\n",
        "    is_correct_string = 'Yes' if output == correct_output else 'No'\n",
        "    outputs.append([test_input[0], test_input[1], linear_combination, output, is_correct_string])\n",
        "# Print output\n",
        "num_wrong = len([output[4] for output in outputs if output[4] == 'No'])\n",
        "output_frame = pd.DataFrame(outputs, columns=['Input 1', '  Input 2', '  Linear Combination', '  Activation Output', '  Is Correct'])\n",
        "if not num_wrong:\n",
        "    print('Nice!  You got it all correct.\\n')\n",
        "else:\n",
        "    print('You got {} wrong.  Keep trying!\\n'.format(num_wrong))\n",
        "print(output_frame.to_string(index=False))\n"
      ]
    }
  ]
}